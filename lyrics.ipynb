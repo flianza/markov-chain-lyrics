{
 "metadata": {
  "language_info": {
   "codemirror_mode": {
    "name": "ipython",
    "version": 3
   },
   "file_extension": ".py",
   "mimetype": "text/x-python",
   "name": "python",
   "nbconvert_exporter": "python",
   "pygments_lexer": "ipython3",
   "version": "3.8.6-final"
  },
  "orig_nbformat": 2,
  "kernelspec": {
   "name": "python3",
   "display_name": "Python 3.8.6 64-bit ('env')",
   "metadata": {
    "interpreter": {
     "hash": "68f607f2b8e7a285dbd207a5387f9c57ac40fb8799d3abeec289482c816ca9d8"
    }
   }
  }
 },
 "nbformat": 4,
 "nbformat_minor": 2,
 "cells": [
  {
   "cell_type": "code",
   "execution_count": 1,
   "metadata": {},
   "outputs": [],
   "source": [
    "import lyricsgenius\n",
    "import unidecode\n",
    "import string\n",
    "\n",
    "from secrets import GENIUS_API_KEY"
   ]
  },
  {
   "cell_type": "code",
   "execution_count": 10,
   "metadata": {},
   "outputs": [],
   "source": [
    "genius = lyricsgenius.Genius(GENIUS_API_KEY, timeout=60)"
   ]
  },
  {
   "cell_type": "code",
   "execution_count": 14,
   "metadata": {},
   "outputs": [],
   "source": [
    "artists = ['Morat']"
   ]
  },
  {
   "cell_type": "code",
   "execution_count": 15,
   "metadata": {},
   "outputs": [
    {
     "output_type": "stream",
     "name": "stdout",
     "text": [
      "Searching for songs by Morat...\n",
      "\n",
      "Song 1: \"Besos En Guerra\"\n",
      "Song 2: \"Cuando Nadie Ve\"\n",
      "Song 3: \"Para Que Nadie Se Entere\"\n",
      "Song 4: \"Ladrona\"\n",
      "Song 5: \"Eres Tú\"\n",
      "Song 6: \"Cómo Te Atreves\"\n",
      "Song 7: \"Antes de los Veinte\"\n",
      "Song 8: \"En Un Sólo Dia\"\n",
      "Song 9: \"Enamórate de Alguien Más\"\n",
      "Song 10: \"Aprender A Quererte\"\n",
      "Song 11: \"Mil Tormentas\"\n",
      "Song 12: \"Amor Con Hielo\"\n",
      "Song 13: \"Presiento\"\n",
      "Song 14: \"No Se Va\"\n",
      "Song 15: \"Punto Y Aparte\"\n",
      "\n",
      "Reached user-specified song limit (15).\n",
      "Done. Found 15 songs.\n"
     ]
    }
   ],
   "source": [
    "for artist_name in artists:    \n",
    "    artist_folder_name = '_'.join(artist_name.split(' '))\n",
    "    artist = genius.search_artist(artist_name, max_songs=15)\n",
    "\n",
    "    for song in artist.songs:\n",
    "        if song.lyrics:\n",
    "            song_title = unidecode.unidecode(song.title)\n",
    "            song_title = song_title.translate(str.maketrans('', '', string.punctuation))\n",
    "            song_title = song_title.lower()\n",
    "            song_file_name = '-'.join(song_title.split(' '))\n",
    "\n",
    "            if not os.path.exists('songs'):\n",
    "                os.makedirs('songs')\n",
    "            \n",
    "            if not os.path.exists(f'songs/{artist_folder_name}'):\n",
    "                os.makedirs(f'songs/{artist_folder_name}')\n",
    "            \n",
    "            with open(f'songs/{artist_folder_name}/{song_file_name}.txt', 'w') as f:\n",
    "                f.writelines(unidecode.unidecode(song.lyrics).split('\\\\n'))"
   ]
  },
  {
   "cell_type": "code",
   "execution_count": null,
   "metadata": {},
   "outputs": [],
   "source": []
  }
 ]
}