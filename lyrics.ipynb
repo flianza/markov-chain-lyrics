{
 "metadata": {
  "language_info": {
   "codemirror_mode": {
    "name": "ipython",
    "version": 3
   },
   "file_extension": ".py",
   "mimetype": "text/x-python",
   "name": "python",
   "nbconvert_exporter": "python",
   "pygments_lexer": "ipython3",
   "version": "3.8.6-final"
  },
  "orig_nbformat": 2,
  "kernelspec": {
   "name": "python3",
   "display_name": "Python 3.8.6 64-bit ('env')",
   "metadata": {
    "interpreter": {
     "hash": "68f607f2b8e7a285dbd207a5387f9c57ac40fb8799d3abeec289482c816ca9d8"
    }
   }
  }
 },
 "nbformat": 4,
 "nbformat_minor": 2,
 "cells": [
  {
   "cell_type": "code",
   "execution_count": 13,
   "metadata": {},
   "outputs": [],
   "source": [
    "import lyricsgenius\n",
    "import unidecode\n",
    "import string\n",
    "\n",
    "from secrets import GENIUS_API_KEY"
   ]
  },
  {
   "cell_type": "code",
   "execution_count": 2,
   "metadata": {},
   "outputs": [],
   "source": [
    "genius = lyricsgenius.Genius(GENIUS_API_KEY, timeout=30)"
   ]
  },
  {
   "cell_type": "code",
   "execution_count": 6,
   "metadata": {},
   "outputs": [
    {
     "output_type": "stream",
     "name": "stdout",
     "text": [
      "Searching for songs by lucas & the woods...\n",
      "\n",
      "Changing artist name to 'Lucas & The Woods'\n",
      "Song 1: \"Victoria\"\n",
      "Song 2: \"Pensacola\"\n",
      "Song 3: \"Solo\"\n",
      "Song 4: \"Hey, vos\"\n",
      "Song 5: \"No es amor\"\n",
      "Song 6: \"No Queda Nada\"\n",
      "Song 7: \"La Hora Azul\"\n",
      "Song 8: \"11:11\"\n",
      "Song 9: \"En La Ciudad\"\n",
      "Song 10: \"Vega\"\n",
      "Song 11: \"Correr\"\n",
      "Song 12: \"Una Parte De Vos\"\n",
      "Couldn't find the lyrics section.\n",
      "Song 13: \"Outro\"\n",
      "Song 14: \"Todo Lo Que Fue\"\n",
      "Couldn't find the lyrics section.\n",
      "Song 15: \"Radio\"\n",
      "Song 16: \"NORTE\"\n",
      "Song 17: \"20/20\"\n",
      "Couldn't find the lyrics section.\n",
      "Song 18: \"Intro\"\n",
      "Song 19: \"FRIENDZONE\"\n",
      "Done. Found 19 songs.\n"
     ]
    }
   ],
   "source": [
    "artist_name = 'lucas & the woods'\n",
    "artist_folder_name = '_'.join(artist_name.split(' '))\n",
    "artist = genius.search_artist(artist_name)"
   ]
  },
  {
   "cell_type": "code",
   "execution_count": 15,
   "metadata": {},
   "outputs": [],
   "source": [
    "for song in artist.songs:\n",
    "    if song.lyrics:\n",
    "        song_title = unidecode.unidecode(song.title)\n",
    "        song_title = song_title.translate(str.maketrans('', '', string.punctuation))\n",
    "        song_title = song_title.lower()\n",
    "        song_file_name = '-'.join(song_title.split(' '))\n",
    "\n",
    "        if not os.path.exists('songs'):\n",
    "            os.makedirs('songs')\n",
    "        \n",
    "        if not os.path.exists(f'songs/{artist_folder_name}'):\n",
    "            os.makedirs(f'songs/{artist_folder_name}')\n",
    "        \n",
    "        with open(f'songs/{artist_folder_name}/{song_file_name}.txt', 'w') as f:\n",
    "            f.writelines(unidecode.unidecode(song.lyrics).split('\\\\n'))"
   ]
  },
  {
   "cell_type": "code",
   "execution_count": null,
   "metadata": {},
   "outputs": [],
   "source": []
  }
 ]
}