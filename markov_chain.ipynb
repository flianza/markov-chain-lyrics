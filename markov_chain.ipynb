{
 "metadata": {
  "language_info": {
   "codemirror_mode": {
    "name": "ipython",
    "version": 3
   },
   "file_extension": ".py",
   "mimetype": "text/x-python",
   "name": "python",
   "nbconvert_exporter": "python",
   "pygments_lexer": "ipython3",
   "version": "3.7.3-final"
  },
  "orig_nbformat": 2,
  "kernelspec": {
   "name": "python3",
   "display_name": "Python 3",
   "language": "python"
  }
 },
 "nbformat": 4,
 "nbformat_minor": 2,
 "cells": [
  {
   "cell_type": "code",
   "execution_count": 12,
   "metadata": {},
   "outputs": [],
   "source": [
    "import os\n",
    "import re\n",
    "import string\n",
    "import random\n",
    "\n",
    "NEWLINE_TOKEN = 'newlinetoken'"
   ]
  },
  {
   "cell_type": "code",
   "execution_count": 13,
   "metadata": {},
   "outputs": [],
   "source": [
    "class Vertex(object):\n",
    "  def __init__(self, value):\n",
    "    self.value = value\n",
    "    self.adjacent = {}\n",
    "\n",
    "  @property\n",
    "  def neighbors(self):\n",
    "    return [neighbor for (neighbor, _) in self.adjacent.items()]\n",
    "\n",
    "  @property\n",
    "  def neighbors_weights(self):\n",
    "    return [weight for (_, weight) in self.adjacent.items()]\n",
    "    \n",
    "  def increment_edge(self, vertex):\n",
    "    self.adjacent[vertex] = self.adjacent.get(vertex, 0) + 1\n",
    "\n",
    "  def next_word(self):\n",
    "    return random.choices(self.neighbors, weights=self.neighbors_weights)[0]\n",
    "\n",
    "  def __str__(self):\n",
    "    return f'Vertex: {self.value}'"
   ]
  },
  {
   "cell_type": "code",
   "execution_count": 14,
   "metadata": {},
   "outputs": [],
   "source": [
    "class Graph(object):\n",
    "  def __init__(self):\n",
    "    self.vertices = {}\n",
    "\n",
    "  def get_vertex(self, value):\n",
    "    if value not in self.vertices:\n",
    "      self.vertices[value] = Vertex(value)\n",
    "    return self.vertices[value]\n",
    "  \n",
    "  def get_next_word(self, vertex):\n",
    "    return self.vertices[vertex.value].next_word()"
   ]
  },
  {
   "cell_type": "code",
   "execution_count": 15,
   "metadata": {},
   "outputs": [],
   "source": [
    "def get_words_from_text(text_path):\n",
    "  with open(text_path, 'rb') as f:\n",
    "    text = f.read().decode('utf-8')\n",
    "    text = re.sub(r'\\[(.+)\\]', ' ', text)\n",
    "    text = text.replace('\\n', f' {NEWLINE_TOKEN} ')\n",
    "    text = ' '.join(text.split())\n",
    "    text = text.lower()\n",
    "    text = text.translate(str.maketrans('', '', string.punctuation))\n",
    "  return text.split()"
   ]
  },
  {
   "cell_type": "code",
   "execution_count": 16,
   "metadata": {},
   "outputs": [],
   "source": [
    "def make_graph(words):\n",
    "  graph = Graph()\n",
    "  prev_word = None\n",
    "\n",
    "  for word in words:\n",
    "    word_vertex = graph.get_vertex(word)\n",
    "\n",
    "    if prev_word:\n",
    "      prev_word.increment_edge(word_vertex)\n",
    "    \n",
    "    prev_word = word_vertex\n",
    "  \n",
    "  return graph"
   ]
  },
  {
   "cell_type": "code",
   "execution_count": 17,
   "metadata": {},
   "outputs": [],
   "source": [
    "def compose(graph, initial_word, length=50):\n",
    "  composition = []\n",
    "\n",
    "  word = graph.get_vertex(initial_word)\n",
    "  for _ in range(length):\n",
    "    composition.append(word.value)\n",
    "    word = graph.get_next_word(word)\n",
    "\n",
    "  return composition"
   ]
  },
  {
   "cell_type": "code",
   "execution_count": 25,
   "metadata": {},
   "outputs": [],
   "source": [
    "words = []\n",
    "\n",
    "for artist in os.listdir('songs'):\n",
    "    for song in os.listdir('songs/{}'.format(artist)):\n",
    "        words.extend(get_words_from_text('songs/{}/{}'.format(artist, song)))"
   ]
  },
  {
   "cell_type": "code",
   "execution_count": 31,
   "metadata": {},
   "outputs": [
    {
     "output_type": "execute_result",
     "data": {
      "text/plain": [
       "3176"
      ]
     },
     "metadata": {},
     "execution_count": 31
    }
   ],
   "source": [
    "len(words)"
   ]
  },
  {
   "cell_type": "code",
   "execution_count": 32,
   "metadata": {},
   "outputs": [
    {
     "output_type": "execute_result",
     "data": {
      "text/plain": [
       "486"
      ]
     },
     "metadata": {},
     "execution_count": 32
    }
   ],
   "source": [
    "len(set(words))"
   ]
  },
  {
   "cell_type": "code",
   "execution_count": 26,
   "metadata": {},
   "outputs": [],
   "source": [
    "graph = make_graph(words)"
   ]
  },
  {
   "cell_type": "code",
   "execution_count": 27,
   "metadata": {},
   "outputs": [
    {
     "output_type": "stream",
     "name": "stdout",
     "text": [
      "quiero andar tan solo \nnadie sabe de la ciudad no encontras momento \n\n\ncuanto te llene algo que valga la hora azul \n\npero no quiero un poco mas alla \nla hora azul \ntodos guardamos algo que perderse \nno te quiero quise asi como lo que fui \n\ny sonreir \n\nno toda su error se mentir y me ves \ntarde comprendi \nlo unico que hacer \n\nnadie quiere andar \nhoy es medianoche y sonreir \ntarde comprendi \nno quererte \npensacola pensacola \nya lo "
     ]
    }
   ],
   "source": [
    "composition = compose(graph, 'quiero', length=100)\n",
    "for word in composition:\n",
    "    if word == NEWLINE_TOKEN:\n",
    "        print()\n",
    "    else:\n",
    "        print(word, end=' ')"
   ]
  },
  {
   "cell_type": "code",
   "execution_count": null,
   "metadata": {},
   "outputs": [],
   "source": []
  }
 ]
}