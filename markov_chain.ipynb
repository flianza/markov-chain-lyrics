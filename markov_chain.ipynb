{
 "cells": [
  {
   "cell_type": "code",
   "execution_count": 1,
   "metadata": {},
   "outputs": [],
   "source": [
    "import os\n",
    "import re\n",
    "import string\n",
    "import random\n",
    "\n",
    "NEWLINE_TOKEN = 'newlinetoken'"
   ]
  },
  {
   "cell_type": "code",
   "execution_count": 2,
   "metadata": {},
   "outputs": [],
   "source": [
    "corpus = []\n",
    "\n",
    "base_dir = 'data'\n",
    "\n",
    "for artist in os.listdir(base_dir):\n",
    "    for file in os.listdir(f'{base_dir}/{artist}'):\n",
    "        with open(f'{base_dir}/{artist}/{file}', 'rb') as f:\n",
    "            text = f.read().decode('utf-8')\n",
    "            text = re.sub(r'\\[(.+)\\]', ' ', text)\n",
    "            text = text.replace('\\n', f' {NEWLINE_TOKEN} ')\n",
    "            text = ' '.join(text.split())\n",
    "            text = text.lower()\n",
    "            text = text.translate(str.maketrans('', '', string.punctuation))\n",
    "        corpus.extend(text.split())\n",
    "\n",
    "i = 0\n",
    "while i < len(corpus)-1:\n",
    "    if corpus[i] == corpus[i+1] and corpus[i] == NEWLINE_TOKEN:\n",
    "        del corpus[i]\n",
    "    else:\n",
    "        i += 1\n",
    "if corpus[0] == NEWLINE_TOKEN:\n",
    "    del corpus[0]"
   ]
  },
  {
   "cell_type": "code",
   "execution_count": 3,
   "metadata": {},
   "outputs": [
    {
     "data": {
      "text/plain": [
       "5658"
      ]
     },
     "execution_count": 3,
     "metadata": {},
     "output_type": "execute_result"
    }
   ],
   "source": [
    "len(corpus)"
   ]
  },
  {
   "cell_type": "code",
   "execution_count": 4,
   "metadata": {},
   "outputs": [
    {
     "data": {
      "text/plain": [
       "782"
      ]
     },
     "execution_count": 4,
     "metadata": {},
     "output_type": "execute_result"
    }
   ],
   "source": [
    "len(set(corpus))"
   ]
  },
  {
   "cell_type": "code",
   "execution_count": 5,
   "metadata": {},
   "outputs": [],
   "source": [
    "class Ngram(object):\n",
    "    def __init__(self, words):\n",
    "        self.words = words\n",
    "    \n",
    "    def __str__(self):\n",
    "        return ', '.join(self.words)\n",
    "\n",
    "    def __repr__(self):\n",
    "        return self.__str__()\n",
    "\n",
    "    def __hash__(self):\n",
    "        return hash(tuple(self.words))"
   ]
  },
  {
   "cell_type": "code",
   "execution_count": 6,
   "metadata": {},
   "outputs": [],
   "source": [
    "class Vertex(object):\n",
    "    def __init__(self, ngram):\n",
    "        self.ngram = ngram\n",
    "        self.adjacent = {}\n",
    "\n",
    "    @property\n",
    "    def neighbors(self):\n",
    "        return [neighbor for (neighbor, _) in self.adjacent.items()]\n",
    "\n",
    "    @property\n",
    "    def neighbors_weights(self):\n",
    "        return [weight for (_, weight) in self.adjacent.items()]\n",
    "    \n",
    "    def increment_edge(self, vertex):\n",
    "        self.adjacent[vertex] = self.adjacent.get(vertex, 0) + 1\n",
    "\n",
    "    def next_vertex(self):\n",
    "        return random.choices(self.neighbors, weights=self.neighbors_weights)[0]\n",
    "\n",
    "    def __str__(self):\n",
    "        return f'Vertex: {self.ngram}'\n",
    "  \n",
    "    def __repr__(self):\n",
    "        return self.__str__()"
   ]
  },
  {
   "cell_type": "code",
   "execution_count": 7,
   "metadata": {},
   "outputs": [],
   "source": [
    "class Graph(object):\n",
    "    def __init__(self):\n",
    "        self.vertices = {}\n",
    "\n",
    "    def get_vertex(self, words):\n",
    "        ngram = Ngram(words)\n",
    "        if ngram.__str__() not in self.vertices:\n",
    "            self.vertices[ngram.__repr__()] = Vertex(ngram)\n",
    "        return self.vertices[ngram.__repr__()]\n",
    "  \n",
    "    def get_next_vertex(self, vertex):\n",
    "        return self.vertices[vertex.ngram.__repr__()].next_vertex()"
   ]
  },
  {
   "cell_type": "code",
   "execution_count": 8,
   "metadata": {},
   "outputs": [],
   "source": [
    "ORDER = 2"
   ]
  },
  {
   "cell_type": "code",
   "execution_count": 9,
   "metadata": {
    "tags": []
   },
   "outputs": [],
   "source": [
    "graph = Graph()\n",
    "prev_words = None\n",
    "\n",
    "for i in range(len(corpus)):\n",
    "    words = corpus[i:i+ORDER]\n",
    "    words_vertex = graph.get_vertex(words)\n",
    "\n",
    "    if prev_words:\n",
    "        prev_words.increment_edge(words_vertex)\n",
    "\n",
    "    prev_words = words_vertex"
   ]
  },
  {
   "cell_type": "code",
   "execution_count": 10,
   "metadata": {},
   "outputs": [
    {
     "data": {
      "text/plain": [
       "2119"
      ]
     },
     "execution_count": 10,
     "metadata": {},
     "output_type": "execute_result"
    }
   ],
   "source": [
    "len([vertex for vertex in graph.vertices.values()])"
   ]
  },
  {
   "cell_type": "code",
   "execution_count": 11,
   "metadata": {},
   "outputs": [],
   "source": [
    "def compose(graph, seed=None, length=100):\n",
    "    if seed:\n",
    "        seed = seed.split()\n",
    "    else:\n",
    "        random_index = random.randint(0, len(corpus) - ORDER)\n",
    "        seed = corpus[random_index:random_index + ORDER]\n",
    "    \n",
    "    assert len(seed) == ORDER\n",
    "\n",
    "    composition = seed\n",
    "    vertex = graph.get_vertex(seed)\n",
    "    for _ in range(length):\n",
    "        vertex = graph.get_next_vertex(vertex)\n",
    "        composition.append(vertex.ngram.words[-1])\n",
    "\n",
    "    return composition"
   ]
  },
  {
   "cell_type": "code",
   "execution_count": 12,
   "metadata": {},
   "outputs": [
    {
     "name": "stdout",
     "output_type": "stream",
     "text": [
      "de miedo con locura \n",
      "y no puedo ocultar que te mueva \n",
      "intenta verme y ponte a prueba \n",
      "pues tu pronostico es estar contigo \n",
      "y aunque lo hagas sin ganas \n",
      "yo te amare ladrona \n",
      "aunque hay suficientes heridos \n",
      "habra una cancion \n",
      "al montarme en ese avion \n",
      "y no te debo nada oh \n",
      "sabiendo que tus besos matan morire de amor \n",
      "oh oh \n",
      "tambien escondido quedo tu recuerdo que se hiciera eterno \n",
      "desde el momento en que vi tu mirada \n",
      "porque yo \n",
      "en un solo baile te entregue mi "
     ]
    }
   ],
   "source": [
    "composition = compose(graph)\n",
    "for word in composition:\n",
    "    if word == NEWLINE_TOKEN:\n",
    "        print()\n",
    "    else:\n",
    "        print(word, end=' ')"
   ]
  },
  {
   "cell_type": "code",
   "execution_count": null,
   "metadata": {},
   "outputs": [],
   "source": []
  }
 ],
 "metadata": {
  "kernelspec": {
   "display_name": "Python 3",
   "language": "python",
   "name": "python3"
  },
  "language_info": {
   "codemirror_mode": {
    "name": "ipython",
    "version": 3
   },
   "file_extension": ".py",
   "mimetype": "text/x-python",
   "name": "python",
   "nbconvert_exporter": "python",
   "pygments_lexer": "ipython3",
   "version": "3.8.6"
  }
 },
 "nbformat": 4,
 "nbformat_minor": 2
}
